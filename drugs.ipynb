{
  "nbformat": 4,
  "nbformat_minor": 0,
  "metadata": {
    "colab": {
      "provenance": [],
      "authorship_tag": "ABX9TyNeDLD06fib7FFSLoPfp2jQ",
      "include_colab_link": true
    },
    "kernelspec": {
      "name": "python3",
      "display_name": "Python 3"
    },
    "language_info": {
      "name": "python"
    }
  },
  "cells": [
    {
      "cell_type": "markdown",
      "metadata": {
        "id": "view-in-github",
        "colab_type": "text"
      },
      "source": [
        "<a href=\"https://colab.research.google.com/github/Aynahd/VeriAssist/blob/main/drugs.ipynb\" target=\"_parent\"><img src=\"https://colab.research.google.com/assets/colab-badge.svg\" alt=\"Open In Colab\"/></a>"
      ]
    },
    {
      "cell_type": "code",
      "execution_count": 1,
      "metadata": {
        "id": "GWruoa3F-4ZX"
      },
      "outputs": [],
      "source": [
        "import torch\n",
        "import torch.nn as nn\n",
        "import torch.optim as optim\n",
        "import pandas as pd\n",
        "import numpy as np"
      ]
    },
    {
      "cell_type": "code",
      "source": [
        "df = pd.read_csv('drug200.csv')\n",
        "print(df)"
      ],
      "metadata": {
        "colab": {
          "base_uri": "https://localhost:8080/"
        },
        "id": "53E25u5lAAqS",
        "outputId": "ceb076a9-b11e-4387-de86-e5c94c6d33b8"
      },
      "execution_count": 4,
      "outputs": [
        {
          "output_type": "stream",
          "name": "stdout",
          "text": [
            "     Age Sex      BP Cholesterol  Na_to_K   Drug\n",
            "0     23   F    HIGH        HIGH   25.355  DrugY\n",
            "1     47   M     LOW        HIGH   13.093  drugC\n",
            "2     47   M     LOW        HIGH   10.114  drugC\n",
            "3     28   F  NORMAL        HIGH    7.798  drugX\n",
            "4     61   F     LOW        HIGH   18.043  DrugY\n",
            "..   ...  ..     ...         ...      ...    ...\n",
            "195   56   F     LOW        HIGH   11.567  drugC\n",
            "196   16   M     LOW        HIGH   12.006  drugC\n",
            "197   52   M  NORMAL        HIGH    9.894  drugX\n",
            "198   23   M  NORMAL      NORMAL   14.020  drugX\n",
            "199   40   F     LOW      NORMAL   11.349  drugX\n",
            "\n",
            "[200 rows x 6 columns]\n"
          ]
        }
      ]
    },
    {
      "cell_type": "markdown",
      "source": [
        "Encode categorical variable : convert to numeric format for computation"
      ],
      "metadata": {
        "id": "swIQSmsRAmEG"
      }
    },
    {
      "cell_type": "code",
      "source": [
        "def encode_column(column):\n",
        "    unique_values = column.unique()\n",
        "    mapping = {value: idx for idx, value in enumerate(unique_values)}\n",
        "    return column.map(mapping), mapping\n",
        "\n",
        "df['Sex'], sex_mapping = encode_column(df['Sex'])\n",
        "df['BP'], bp_mapping = encode_column(df['BP'])\n",
        "df['Cholesterol'], cholesterol_mapping = encode_column(df['Cholesterol'])\n",
        "df['Drug'], drug_mapping = encode_column(df['Drug'])"
      ],
      "metadata": {
        "id": "fBUJWcqMAtak"
      },
      "execution_count": 5,
      "outputs": []
    },
    {
      "cell_type": "markdown",
      "source": [
        "Normalize : min max scaling"
      ],
      "metadata": {
        "id": "Pwge2pwNBA9E"
      }
    },
    {
      "cell_type": "code",
      "source": [
        "def normalize_column(column):\n",
        "    return (column - column.min()) / (column.max() - column.min())\n",
        "\n",
        "df['Age'] = normalize_column(df['Age'])\n",
        "df['Na_to_K'] = normalize_column(df['Na_to_K'])"
      ],
      "metadata": {
        "id": "ojlnAuG9A2iR"
      },
      "execution_count": 6,
      "outputs": []
    },
    {
      "cell_type": "code",
      "source": [
        "X = torch.tensor(df[['Age', 'Sex', 'BP', 'Cholesterol', 'Na_to_K']].values, dtype=torch.float32)\n",
        "y = torch.tensor(df['Drug'].values, dtype=torch.long)"
      ],
      "metadata": {
        "id": "93-aKeTqBIYu"
      },
      "execution_count": 7,
      "outputs": []
    },
    {
      "cell_type": "code",
      "source": [
        "train_size = int(0.8 * len(X))\n",
        "X_train, X_test = X[:train_size], X[train_size:]\n",
        "y_train, y_test = y[:train_size], y[train_size:]"
      ],
      "metadata": {
        "id": "WQkkyoB5BQs4"
      },
      "execution_count": 8,
      "outputs": []
    },
    {
      "cell_type": "code",
      "source": [
        "class DrugClassifier(nn.Module):\n",
        "    def __init__(self, input_size, hidden_size, num_classes):\n",
        "        super(DrugClassifier, self).__init__()\n",
        "        self.fc1 = nn.Linear(input_size, hidden_size)\n",
        "        self.relu = nn.ReLU()\n",
        "        self.fc2 = nn.Linear(hidden_size, num_classes)\n",
        "\n",
        "    def forward(self, x):\n",
        "        x = self.fc1(x)\n",
        "        x = self.relu(x)\n",
        "        x = self.fc2(x)\n",
        "        return x"
      ],
      "metadata": {
        "id": "f7JEAc02BW4w"
      },
      "execution_count": 9,
      "outputs": []
    },
    {
      "cell_type": "code",
      "source": [
        "input_size = X_train.shape[1]\n",
        "hidden_size = 64\n",
        "num_classes = len(drug_mapping)\n",
        "\n",
        "model = DrugClassifier(input_size, hidden_size, num_classes)\n",
        "criterion = nn.CrossEntropyLoss()\n",
        "optimizer = optim.Adam(model.parameters(), lr=0.01)"
      ],
      "metadata": {
        "id": "QjSzloIeBpZp"
      },
      "execution_count": 14,
      "outputs": []
    },
    {
      "cell_type": "code",
      "source": [
        "num_epochs = 100\n",
        "for epoch in range(num_epochs):\n",
        "\n",
        "    outputs = model(X_train)\n",
        "    loss = criterion(outputs, y_train)\n",
        "\n",
        "    optimizer.zero_grad()\n",
        "    loss.backward()\n",
        "    optimizer.step()\n",
        "\n",
        "    if (epoch + 1) % 10 == 0:\n",
        "        print(f'Epoch [{epoch+1}/{num_epochs}], Loss: {loss.item():.4f}')"
      ],
      "metadata": {
        "colab": {
          "base_uri": "https://localhost:8080/"
        },
        "id": "rnUlQvb-FLJX",
        "outputId": "26f49de6-273e-40f3-c06c-1d409c30679a"
      },
      "execution_count": 15,
      "outputs": [
        {
          "output_type": "stream",
          "name": "stdout",
          "text": [
            "Epoch [10/100], Loss: 1.1284\n",
            "Epoch [20/100], Loss: 0.8514\n",
            "Epoch [30/100], Loss: 0.6493\n",
            "Epoch [40/100], Loss: 0.4900\n",
            "Epoch [50/100], Loss: 0.3631\n",
            "Epoch [60/100], Loss: 0.2678\n",
            "Epoch [70/100], Loss: 0.2035\n",
            "Epoch [80/100], Loss: 0.1609\n",
            "Epoch [90/100], Loss: 0.1321\n",
            "Epoch [100/100], Loss: 0.1114\n"
          ]
        }
      ]
    },
    {
      "cell_type": "code",
      "source": [
        "with torch.no_grad():\n",
        "    y_pred = model(X_test)\n",
        "    y_pred_classes = torch.argmax(y_pred, axis=1)\n",
        "    accuracy = (y_pred_classes == y_test).sum().item() / y_test.size(0)\n",
        "    print(f'Accuracy: {accuracy * 100:.2f}%')\n"
      ],
      "metadata": {
        "colab": {
          "base_uri": "https://localhost:8080/"
        },
        "id": "DCmWheLqFJ0h",
        "outputId": "29c8a605-c882-449c-9433-becef24d6dc6"
      },
      "execution_count": 16,
      "outputs": [
        {
          "output_type": "stream",
          "name": "stdout",
          "text": [
            "Accuracy: 97.50%\n"
          ]
        }
      ]
    },
    {
      "cell_type": "code",
      "source": [
        "from sklearn.metrics import confusion_matrix, ConfusionMatrixDisplay, accuracy_score\n",
        "import matplotlib.pyplot as plt\n",
        "import torch"
      ],
      "metadata": {
        "id": "UOPPW4J8FgNw"
      },
      "execution_count": 17,
      "outputs": []
    },
    {
      "cell_type": "code",
      "source": [
        "\n",
        "with torch.no_grad():\n",
        "    outputs = model(X_test)\n",
        "    predicted_classes = torch.argmax(outputs, dim=1)\n"
      ],
      "metadata": {
        "id": "o5IZS78NFt0A"
      },
      "execution_count": 18,
      "outputs": []
    },
    {
      "cell_type": "code",
      "source": [
        "y_true = y_test.cpu().numpy()\n",
        "y_pred = predicted_classes.cpu().numpy()\n",
        "cm = confusion_matrix(y_true, y_pred)\n",
        "\n",
        "print(cm)\n"
      ],
      "metadata": {
        "colab": {
          "base_uri": "https://localhost:8080/"
        },
        "id": "W-Gf40ULF22E",
        "outputId": "16c239eb-c3f7-465a-b721-50f69a5ef7f8"
      },
      "execution_count": 19,
      "outputs": [
        {
          "output_type": "stream",
          "name": "stdout",
          "text": [
            "[[19  0  0  0  1]\n",
            " [ 0  3  0  0  0]\n",
            " [ 0  0 10  0  0]\n",
            " [ 0  0  0  5  0]\n",
            " [ 0  0  0  0  2]]\n"
          ]
        }
      ]
    },
    {
      "cell_type": "code",
      "source": [
        "disp = ConfusionMatrixDisplay(confusion_matrix=cm, display_labels=range(num_classes))\n",
        "disp.plot(cmap=plt.cm.Blues)\n",
        "plt.title(\"Confusion Matrix\")\n",
        "plt.show()\n"
      ],
      "metadata": {
        "colab": {
          "base_uri": "https://localhost:8080/",
          "height": 472
        },
        "id": "xZZzzqG3GDee",
        "outputId": "7237bad1-a3c8-4ca6-d2d6-6639032476d9"
      },
      "execution_count": 20,
      "outputs": [
        {
          "output_type": "display_data",
          "data": {
            "text/plain": [
              "<Figure size 640x480 with 2 Axes>"
            ],
            "image/png": "[encoded data removed]"
          },
          "metadata": {}
        }
      ]
    },
    {
      "cell_type": "code",
      "source": [
        "from sklearn.metrics import accuracy_score, precision_score, f1_score, classification_report"
      ],
      "metadata": {
        "id": "LY0QxeE0GTgz"
      },
      "execution_count": 21,
      "outputs": []
    },
    {
      "cell_type": "code",
      "source": [
        "with torch.no_grad():\n",
        "    outputs = model(X_test)\n",
        "    predicted_classes = torch.argmax(outputs, dim=1)\n",
        "\n",
        "y_true = y_test.cpu().numpy()\n",
        "y_pred = predicted_classes.cpu().numpy()\n"
      ],
      "metadata": {
        "id": "5XvqWexiGVFo"
      },
      "execution_count": 22,
      "outputs": []
    },
    {
      "cell_type": "code",
      "source": [
        "f1 = f1_score(y_true, y_pred, average='weighted')\n",
        "print(f\"F1 Score: {f1:.2f}\")\n"
      ],
      "metadata": {
        "colab": {
          "base_uri": "https://localhost:8080/"
        },
        "id": "WzW0cJNgGg2C",
        "outputId": "bc36d26e-30e0-4d03-9eb0-b54520b4bac4"
      },
      "execution_count": 25,
      "outputs": [
        {
          "output_type": "stream",
          "name": "stdout",
          "text": [
            "F1 Score: 0.98\n"
          ]
        }
      ]
    },
    {
      "cell_type": "code",
      "source": [
        "report = classification_report(y_true, y_pred)\n",
        "print(\"Classification Report:\")\n",
        "print(report)"
      ],
      "metadata": {
        "colab": {
          "base_uri": "https://localhost:8080/"
        },
        "id": "8oaEwMKuGxF5",
        "outputId": "92bbf500-5a63-410b-83c9-546852fa9872"
      },
      "execution_count": 24,
      "outputs": [
        {
          "output_type": "stream",
          "name": "stdout",
          "text": [
            "Classification Report:\n",
            "              precision    recall  f1-score   support\n",
            "\n",
            "           0       1.00      0.95      0.97        20\n",
            "           1       1.00      1.00      1.00         3\n",
            "           2       1.00      1.00      1.00        10\n",
            "           3       1.00      1.00      1.00         5\n",
            "           4       0.67      1.00      0.80         2\n",
            "\n",
            "    accuracy                           0.97        40\n",
            "   macro avg       0.93      0.99      0.95        40\n",
            "weighted avg       0.98      0.97      0.98        40\n",
            "\n"
          ]
        }
      ]
    }
  ]
}