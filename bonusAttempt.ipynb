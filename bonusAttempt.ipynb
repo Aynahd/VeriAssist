{
  "nbformat": 4,
  "nbformat_minor": 0,
  "metadata": {
    "colab": {
      "provenance": [],
      "gpuType": "T4",
      "authorship_tag": "ABX9TyPIHg4bXiwYgBcNdPvtECZg",
      "include_colab_link": true
    },
    "kernelspec": {
      "name": "python3",
      "display_name": "Python 3"
    },
    "language_info": {
      "name": "python"
    },
    "accelerator": "GPU"
  },
  "cells": [
    {
      "cell_type": "markdown",
      "metadata": {
        "id": "view-in-github",
        "colab_type": "text"
      },
      "source": [
        "<a href=\"https://colab.research.google.com/github/Aynahd/VeriAssist/blob/main/bonusAttempt.ipynb\" target=\"_parent\"><img src=\"https://colab.research.google.com/assets/colab-badge.svg\" alt=\"Open In Colab\"/></a>"
      ]
    },
    {
      "cell_type": "markdown",
      "source": [
        "Data re-structuring for CNN\n",
        "1D to 3 by 2 matrix"
      ],
      "metadata": {
        "id": "FpNngxfzFwMb"
      }
    },
    {
      "cell_type": "code",
      "execution_count": 1,
      "metadata": {
        "id": "V0D3IyggFqmc"
      },
      "outputs": [],
      "source": [
        "import torch\n",
        "import torch.nn as nn\n",
        "import torch.optim as optim\n",
        "import pandas as pd\n",
        "import numpy as np"
      ]
    },
    {
      "cell_type": "code",
      "source": [
        "df = pd.read_csv('drug200.csv')\n",
        "def encode_column(column):\n",
        "    unique_values = column.unique()\n",
        "    mapping = {value: idx for idx, value in enumerate(unique_values)}\n",
        "    return column.map(mapping), mapping\n",
        "\n",
        "def normalize_column(column):\n",
        "    return (column - column.min()) / (column.max() - column.min())\n",
        "\n",
        "df['Sex'], sex_mapping = encode_column(df['Sex'])\n",
        "df['BP'], bp_mapping = encode_column(df['BP'])\n",
        "df['Cholesterol'], cholesterol_mapping = encode_column(df['Cholesterol'])\n",
        "df['Drug'], drug_mapping = encode_column(df['Drug'])\n",
        "\n",
        "\n",
        "df['Age'] = normalize_column(df['Age'])\n",
        "df['Na_to_K'] = normalize_column(df['Na_to_K'])\n",
        "print(df)"
      ],
      "metadata": {
        "colab": {
          "base_uri": "https://localhost:8080/"
        },
        "id": "GYrRb82dGPrj",
        "outputId": "6ee865e1-c51f-4c65-e9ef-adab916c012d"
      },
      "execution_count": 4,
      "outputs": [
        {
          "output_type": "stream",
          "name": "stdout",
          "text": [
            "          Age  Sex  BP  Cholesterol   Na_to_K  Drug\n",
            "0    0.135593    0   0            0  0.596848     0\n",
            "1    0.542373    1   1            0  0.213397     1\n",
            "2    0.542373    1   1            0  0.120239     1\n",
            "3    0.220339    0   2            0  0.047814     2\n",
            "4    0.779661    0   1            0  0.368191     0\n",
            "..        ...  ...  ..          ...       ...   ...\n",
            "195  0.694915    0   1            0  0.165676     1\n",
            "196  0.016949    1   1            0  0.179405     1\n",
            "197  0.627119    1   2            0  0.113359     2\n",
            "198  0.135593    1   2            1  0.242385     2\n",
            "199  0.423729    0   1            1  0.158859     2\n",
            "\n",
            "[200 rows x 6 columns]\n"
          ]
        }
      ]
    },
    {
      "cell_type": "code",
      "source": [
        "y = torch.tensor(df['Drug'].values, dtype=torch.long)\n",
        "print(y)"
      ],
      "metadata": {
        "colab": {
          "base_uri": "https://localhost:8080/"
        },
        "id": "3mZGk6QUGQ6t",
        "outputId": "32303c7b-5388-441b-8f7b-7765b77b8264"
      },
      "execution_count": 7,
      "outputs": [
        {
          "output_type": "stream",
          "name": "stdout",
          "text": [
            "tensor([0, 1, 1, 2, 0, 2, 0, 1, 0, 0, 1, 0, 0, 0, 2, 0, 2, 3, 1, 0, 0, 0, 0, 0,\n",
            "        0, 0, 0, 2, 0, 0, 2, 4, 2, 0, 2, 2, 3, 2, 2, 2, 0, 4, 0, 2, 2, 2, 3, 1,\n",
            "        0, 0, 0, 2, 0, 0, 4, 1, 4, 0, 2, 0, 0, 3, 0, 2, 4, 0, 3, 2, 0, 0, 4, 0,\n",
            "        2, 0, 0, 0, 3, 0, 3, 2, 4, 2, 1, 3, 1, 4, 2, 0, 0, 0, 0, 0, 0, 0, 0, 2,\n",
            "        0, 0, 0, 0, 3, 3, 1, 2, 0, 2, 2, 0, 4, 0, 3, 2, 2, 2, 2, 0, 2, 2, 3, 0,\n",
            "        0, 0, 0, 0, 4, 0, 0, 2, 0, 2, 0, 0, 2, 0, 0, 2, 4, 3, 4, 2, 3, 0, 4, 0,\n",
            "        3, 2, 2, 3, 2, 1, 3, 4, 2, 2, 0, 1, 3, 0, 1, 2, 2, 4, 2, 0, 0, 0, 0, 2,\n",
            "        0, 3, 2, 2, 0, 0, 3, 0, 3, 0, 0, 0, 0, 2, 2, 0, 0, 0, 4, 3, 0, 0, 0, 3,\n",
            "        0, 1, 0, 1, 1, 2, 2, 2])\n"
          ]
        }
      ]
    },
    {
      "cell_type": "markdown",
      "source": [
        "Restruct"
      ],
      "metadata": {
        "id": "3sfl1ul3N_zH"
      }
    },
    {
      "cell_type": "code",
      "source": [
        "X = df.iloc[:, :-1].values\n",
        "dummy_column = np.zeros((X.shape[0], 1))\n",
        "X_extended = np.hstack((X, dummy_column))\n",
        "\n",
        "X_cnn = X_extended.reshape(X_extended.shape[0], 1, 3, 2)\n",
        "\n",
        "print(\"Reshaped X for CNN:\", X_cnn.shape)\n",
        "print(\"Target y shape:\", y.shape)"
      ],
      "metadata": {
        "colab": {
          "base_uri": "https://localhost:8080/"
        },
        "id": "4wmreS-BN5dd",
        "outputId": "ec390b9e-c775-4fef-82bb-484b9a28844c"
      },
      "execution_count": 9,
      "outputs": [
        {
          "output_type": "stream",
          "name": "stdout",
          "text": [
            "Reshaped X for CNN: (200, 1, 3, 2)\n",
            "Target y shape: torch.Size([200])\n"
          ]
        }
      ]
    },
    {
      "cell_type": "code",
      "source": [
        "print(X_cnn)"
      ],
      "metadata": {
        "colab": {
          "base_uri": "https://localhost:8080/"
        },
        "id": "pWVJoiPVOy2U",
        "outputId": "8212bac3-9f94-4e52-f597-4d42ccd51f7a"
      },
      "execution_count": 10,
      "outputs": [
        {
          "output_type": "stream",
          "name": "stdout",
          "text": [
            "[[[[0.13559322 0.        ]\n",
            "   [0.         0.        ]\n",
            "   [0.59684783 0.        ]]]\n",
            "\n",
            "\n",
            " [[[0.54237288 1.        ]\n",
            "   [1.         0.        ]\n",
            "   [0.21339671 0.        ]]]\n",
            "\n",
            "\n",
            " [[[0.54237288 1.        ]\n",
            "   [1.         0.        ]\n",
            "   [0.12023891 0.        ]]]\n",
            "\n",
            "\n",
            " ...\n",
            "\n",
            "\n",
            " [[[0.62711864 1.        ]\n",
            "   [2.         0.        ]\n",
            "   [0.11335918 0.        ]]]\n",
            "\n",
            "\n",
            " [[[0.13559322 1.        ]\n",
            "   [2.         1.        ]\n",
            "   [0.24238539 0.        ]]]\n",
            "\n",
            "\n",
            " [[[0.42372881 0.        ]\n",
            "   [1.         1.        ]\n",
            "   [0.15885922 0.        ]]]]\n"
          ]
        }
      ]
    },
    {
      "cell_type": "code",
      "source": [
        "import torch\n",
        "import torch.nn as nn\n",
        "import torch.optim as optim\n",
        "from torch.utils.data import DataLoader, TensorDataset, random_split\n",
        "import numpy as np"
      ],
      "metadata": {
        "id": "KF0dXI3BO4mX"
      },
      "execution_count": 11,
      "outputs": []
    },
    {
      "cell_type": "code",
      "source": [
        "X = torch.tensor(X.reshape(200, 1, 3, 2), dtype=torch.float32)\n",
        "y = torch.tensor(y, dtype=torch.long)"
      ],
      "metadata": {
        "colab": {
          "base_uri": "https://localhost:8080/",
          "height": 159
        },
        "id": "W10d735PPtwf",
        "outputId": "2c8c39e5-72e7-41b7-c527-b4513b8aa5b8"
      },
      "execution_count": 14,
      "outputs": [
        {
          "output_type": "error",
          "ename": "ValueError",
          "evalue": "cannot reshape array of size 1000 into shape (200,1,3,2)",
          "traceback": [
            "\u001b[0;31m---------------------------------------------------------------------------\u001b[0m",
            "\u001b[0;31mValueError\u001b[0m                                Traceback (most recent call last)",
            "\u001b[0;32m<ipython-input-14-2f47c8fa3e17>\u001b[0m in \u001b[0;36m<cell line: 1>\u001b[0;34m()\u001b[0m\n\u001b[0;32m----> 1\u001b[0;31m \u001b[0mX\u001b[0m \u001b[0;34m=\u001b[0m \u001b[0mtorch\u001b[0m\u001b[0;34m.\u001b[0m\u001b[0mtensor\u001b[0m\u001b[0;34m(\u001b[0m\u001b[0mX\u001b[0m\u001b[0;34m.\u001b[0m\u001b[0mreshape\u001b[0m\u001b[0;34m(\u001b[0m\u001b[0;36m200\u001b[0m\u001b[0;34m,\u001b[0m \u001b[0;36m1\u001b[0m\u001b[0;34m,\u001b[0m \u001b[0;36m3\u001b[0m\u001b[0;34m,\u001b[0m \u001b[0;36m2\u001b[0m\u001b[0;34m)\u001b[0m\u001b[0;34m,\u001b[0m \u001b[0mdtype\u001b[0m\u001b[0;34m=\u001b[0m\u001b[0mtorch\u001b[0m\u001b[0;34m.\u001b[0m\u001b[0mfloat32\u001b[0m\u001b[0;34m)\u001b[0m\u001b[0;34m\u001b[0m\u001b[0;34m\u001b[0m\u001b[0m\n\u001b[0m\u001b[1;32m      2\u001b[0m \u001b[0my\u001b[0m \u001b[0;34m=\u001b[0m \u001b[0mtorch\u001b[0m\u001b[0;34m.\u001b[0m\u001b[0mtensor\u001b[0m\u001b[0;34m(\u001b[0m\u001b[0my\u001b[0m\u001b[0;34m,\u001b[0m \u001b[0mdtype\u001b[0m\u001b[0;34m=\u001b[0m\u001b[0mtorch\u001b[0m\u001b[0;34m.\u001b[0m\u001b[0mlong\u001b[0m\u001b[0;34m)\u001b[0m\u001b[0;34m\u001b[0m\u001b[0;34m\u001b[0m\u001b[0m\n",
            "\u001b[0;31mValueError\u001b[0m: cannot reshape array of size 1000 into shape (200,1,3,2)"
          ]
        }
      ]
    },
    {
      "cell_type": "code",
      "source": [
        "dataset = TensorDataset(X, y)\n",
        "train_size = int(0.8 * len(dataset))\n",
        "test_size = len(dataset) - train_size\n",
        "train_dataset, test_dataset = random_split(dataset, [train_size, test_size])\n",
        "\n",
        "train_loader = DataLoader(train_dataset, batch_size=32, shuffle=True)\n",
        "test_loader = DataLoader(test_dataset, batch_size=32, shuffle=False)\n"
      ],
      "metadata": {
        "id": "AQqIF1lnQDDI"
      },
      "execution_count": null,
      "outputs": []
    },
    {
      "cell_type": "code",
      "source": [
        "class CNN(nn.Module):\n",
        "    def __init__(self, num_classes):\n",
        "        super(CNN, self).__init__()\n",
        "        self.conv1 = nn.Conv2d(1, 32, kernel_size=2)  # 1 input channel, 32 output channels\n",
        "        self.pool = nn.MaxPool2d(2, 2)               # Pooling layer\n",
        "        self.fc1 = nn.Linear(32, 64)\n",
        "        self.fc2 = nn.Linear(64, num_classes)        # Output layer\n",
        "\n",
        "    def forward(self, x):\n",
        "        x = torch.relu(self.conv1(x))  # Apply convolution + ReLU activation\n",
        "        x = self.pool(x)               # Apply pooling\n",
        "        x = x.view(x.size(0), -1)      # Flatten for the fully connected layer\n",
        "        x = torch.relu(self.fc1(x))    # First fully connected layer\n",
        "        x = self.fc2(x)                # Output layer (no activation for logits)\n",
        "        return x\n",
        "              # Fully connected layer\n",
        "\n",
        "num_classes = len(torch.unique(y))  # Number of classes in y\n",
        "model = CNN(num_classes)\n",
        "\n",
        "# Define loss function and optimizer\n",
        "criterion = nn.CrossEntropyLoss()  # For multi-class classification\n",
        "optimizer = optim.Adam(model.parameters(), lr=0.001)\n"
      ],
      "metadata": {
        "id": "qzRtgv1sQG6u"
      },
      "execution_count": null,
      "outputs": []
    },
    {
      "cell_type": "code",
      "source": [
        "num_epochs = 10\n",
        "for epoch in range(num_epochs):\n",
        "    model.train()\n",
        "    running_loss = 0.0\n",
        "    for inputs, labels in train_loader:\n",
        "        optimizer.zero_grad()           # Zero gradients\n",
        "        outputs = model(inputs)         # Forward pass\n",
        "        loss = criterion(outputs, labels)  # Compute loss\n",
        "        loss.backward()                 # Backward pass\n",
        "        optimizer.step()                # Update weights\n",
        "        running_loss += loss.item()\n",
        "\n",
        "    print(f\"Epoch {epoch+1}/{num_epochs}, Loss: {running_loss/len(train_loader):.4f}\")"
      ],
      "metadata": {
        "id": "Bpy_F4A-QTI_"
      },
      "execution_count": null,
      "outputs": []
    },
    {
      "cell_type": "code",
      "source": [
        "model.eval()\n",
        "correct = 0\n",
        "total = 0\n",
        "with torch.no_grad():  # No need to compute gradients during evaluation\n",
        "    for inputs, labels in test_loader:\n",
        "        outputs = model(inputs)\n",
        "        _, predicted = torch.max(outputs, 1)  # Get class predictions\n",
        "        total += labels.size(0)\n",
        "        correct += (predicted == labels).sum().item()\n",
        "\n",
        "accuracy = correct / total * 100\n",
        "print(f\"Test Accuracy: {accuracy:.2f}%\")"
      ],
      "metadata": {
        "id": "m-2vN7FpQV-Z"
      },
      "execution_count": null,
      "outputs": []
    }
  ]
}